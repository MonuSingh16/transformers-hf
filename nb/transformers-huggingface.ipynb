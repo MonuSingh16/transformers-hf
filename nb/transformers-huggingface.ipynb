{
 "cells": [
  {
   "attachments": {},
   "cell_type": "markdown",
   "metadata": {},
   "source": [
    "The following is a list of common NLP tasks, with some examples of each:\n",
    "\n",
    "1. Classifying whole senetces (sentiment, email as spam or not, sentence grammatically correct, logically related)\n",
    "2. Classifying each word in a sentence: Grammatical (noun, verb, adjective), or the named entities (person, location, organization)\n",
    "3. Generating text content: Completing a prompt with auto-generated text, filling in the blanks in a text with masked words\n",
    "4. Extracting an answer from a text: Given a question and a context, extracting the answer to the question based on the information provided in the context\n",
    "5. Generating a new sentence from an input text: Translating a text into another language, summarizing a text\n",
    "6. Generating a transcript of an audio sample or a description of an image."
   ]
  },
  {
   "cell_type": "code",
   "execution_count": 1,
   "metadata": {},
   "outputs": [
    {
     "name": "stdout",
     "output_type": "stream",
     "text": [
      "zsh:1: no matches found: transformers[sentencepiece]\n",
      "Note: you may need to restart the kernel to use updated packages.\n"
     ]
    },
    {
     "name": "stderr",
     "output_type": "stream",
     "text": [
      "/Users/monusingh/opt/miniconda3/envs/venv-transformer/lib/python3.9/site-packages/tqdm/auto.py:22: TqdmWarning: IProgress not found. Please update jupyter and ipywidgets. See https://ipywidgets.readthedocs.io/en/stable/user_install.html\n",
      "  from .autonotebook import tqdm as notebook_tqdm\n",
      "No model was supplied, defaulted to distilbert-base-uncased-finetuned-sst-2-english and revision af0f99b (https://huggingface.co/distilbert-base-uncased-finetuned-sst-2-english).\n",
      "Using a pipeline without specifying a model name and revision in production is not recommended.\n"
     ]
    },
    {
     "data": {
      "text/plain": [
       "[{'label': 'POSITIVE', 'score': 0.9598050713539124}]"
      ]
     },
     "execution_count": 1,
     "metadata": {},
     "output_type": "execute_result"
    }
   ],
   "source": [
    "# The most basic object in the 🤗 Transformers library is the pipeline() function. \n",
    "# It connects a model with its necessary preprocessing and postprocessing steps, \n",
    "# allowing us to directly input any text and get an intelligible answer:\n",
    "\n",
    "%pip install datasets evaluate transformers[sentencepiece]\n",
    "\n",
    "from transformers import pipeline\n",
    "classifier = pipeline(\"sentiment-analysis\")\n",
    "classifier(\"I've been waiting for a HuggingFace course my whole life.\")\n",
    "\n",
    "# The model is downloaded and cached when you create the classifier object. \n",
    "# If you rerun the command, the cached model will be used instead and there is no need to download the model again.\n",
    "\n",
    "\n",
    "classifier(\n",
    "    [\"I've been waiting for a HuggingFace course my whole life.\", \"I hate this so much!\"]\n",
    ")"
   ]
  },
  {
   "attachments": {},
   "cell_type": "markdown",
   "metadata": {},
   "source": [
    "Zero-shot classification\n",
    "\n",
    "This is a common scenario in real-world projects because annotating text is usually time-consuming and requires domain expertise. \n",
    "For this use case, the zero-shot-classification pipeline is very powerful: it allows you to specify which labels to use for the classification, so you don’t have to rely on the labels of the pretrained model"
   ]
  },
  {
   "cell_type": "code",
   "execution_count": 3,
   "metadata": {},
   "outputs": [
    {
     "name": "stderr",
     "output_type": "stream",
     "text": [
      "No model was supplied, defaulted to facebook/bart-large-mnli and revision c626438 (https://huggingface.co/facebook/bart-large-mnli).\n",
      "Using a pipeline without specifying a model name and revision in production is not recommended.\n",
      "Downloading: 100%|██████████| 1.15k/1.15k [00:00<00:00, 375kB/s]\n",
      "Downloading: 100%|██████████| 1.63G/1.63G [01:05<00:00, 24.7MB/s]\n",
      "Downloading: 100%|██████████| 26.0/26.0 [00:00<00:00, 7.17kB/s]\n",
      "Downloading: 100%|██████████| 899k/899k [00:01<00:00, 651kB/s]  \n",
      "Downloading: 100%|██████████| 456k/456k [00:01<00:00, 421kB/s]  \n",
      "Downloading: 100%|██████████| 1.36M/1.36M [00:01<00:00, 1.19MB/s]\n"
     ]
    },
    {
     "data": {
      "text/plain": [
       "{'sequence': 'This is a course about the Transformer library',\n",
       " 'labels': ['education', 'business', 'politics'],\n",
       " 'scores': [0.9567619562149048, 0.03160896897315979, 0.011629075743258]}"
      ]
     },
     "execution_count": 3,
     "metadata": {},
     "output_type": "execute_result"
    }
   ],
   "source": [
    "classifier = pipeline(\"zero-shot-classification\")\n",
    "classifier(\n",
    "    \"This is a course about the Transformer library\",\n",
    "    candidate_labels=[\"education\", \"business\", \"politics\"]\n",
    ")"
   ]
  },
  {
   "attachments": {},
   "cell_type": "markdown",
   "metadata": {},
   "source": [
    "Text generation\n",
    "\n",
    "The main idea here is that you provide a prompt and the model will auto-complete it by generating the remaining text. This is similar to the predictive text feature that is found on many phones. Text generation involves randomness, so it’s normal if you don’t get the same results as shown below."
   ]
  },
  {
   "cell_type": "code",
   "execution_count": 6,
   "metadata": {},
   "outputs": [
    {
     "name": "stderr",
     "output_type": "stream",
     "text": [
      "Downloading: 100%|██████████| 762/762 [00:00<00:00, 207kB/s]\n",
      "Downloading: 100%|██████████| 353M/353M [00:13<00:00, 26.9MB/s] \n",
      "Downloading: 100%|██████████| 1.04M/1.04M [00:01<00:00, 755kB/s] \n",
      "Downloading: 100%|██████████| 456k/456k [00:01<00:00, 442kB/s] \n",
      "Downloading: 100%|██████████| 1.36M/1.36M [00:01<00:00, 756kB/s]\n",
      "Setting `pad_token_id` to `eos_token_id`:50256 for open-end generation.\n"
     ]
    },
    {
     "data": {
      "text/plain": [
       "[{'generated_text': 'In this course, we will teach you how to manipulate the internet in the first place.'},\n",
       " {'generated_text': 'In this course, we will teach you how to create a virtual reality device that can be launched onto your computer.\\n\\n\\n- View your real'}]"
      ]
     },
     "execution_count": 6,
     "metadata": {},
     "output_type": "execute_result"
    }
   ],
   "source": [
    "generator = pipeline(\"text-generation\", model=\"distilgpt2\")\n",
    "generator(\n",
    "    \"In this course, we will teach you how to\",\n",
    "    max_length=30,\n",
    "    num_return_sequences=2,\n",
    ")"
   ]
  },
  {
   "attachments": {},
   "cell_type": "markdown",
   "metadata": {},
   "source": [
    "Fill-mask\n",
    "\n",
    "To fill the blanks in a given text.  Note that here the model fills in the special <mask> word, which is often referred to as a mask token. Other mask-filling models might have different mask tokens, so it’s always good to verify the proper mask word when exploring \n",
    "other models"
   ]
  },
  {
   "cell_type": "code",
   "execution_count": 7,
   "metadata": {},
   "outputs": [
    {
     "name": "stderr",
     "output_type": "stream",
     "text": [
      "No model was supplied, defaulted to distilroberta-base and revision ec58a5b (https://huggingface.co/distilroberta-base).\n",
      "Using a pipeline without specifying a model name and revision in production is not recommended.\n",
      "Downloading: 100%|██████████| 480/480 [00:00<00:00, 121kB/s]\n",
      "Downloading: 100%|██████████| 331M/331M [00:12<00:00, 27.0MB/s] \n",
      "Downloading: 100%|██████████| 899k/899k [00:02<00:00, 433kB/s]  \n",
      "Downloading: 100%|██████████| 456k/456k [00:01<00:00, 314kB/s]  \n",
      "Downloading: 100%|██████████| 1.36M/1.36M [00:02<00:00, 553kB/s] \n"
     ]
    },
    {
     "data": {
      "text/plain": [
       "[{'score': 0.1961977630853653,\n",
       "  'token': 30412,\n",
       "  'token_str': ' mathematical',\n",
       "  'sequence': 'This course will teach you all about mathematical models.'},\n",
       " {'score': 0.04052729532122612,\n",
       "  'token': 38163,\n",
       "  'token_str': ' computational',\n",
       "  'sequence': 'This course will teach you all about computational models.'}]"
      ]
     },
     "execution_count": 7,
     "metadata": {},
     "output_type": "execute_result"
    }
   ],
   "source": [
    "unmasker = pipeline(\"fill-mask\")\n",
    "unmasker(\"This course will teach you all about <mask> models.\", top_k=2)"
   ]
  },
  {
   "attachments": {},
   "cell_type": "markdown",
   "metadata": {},
   "source": [
    "Named entity recoginition\n",
    "\n",
    "Named entity recognition (NER) is a task where the model has to find which parts of the input text correspond to entities such as persons, locations, or organizations.\n",
    "\n"
   ]
  },
  {
   "cell_type": "code",
   "execution_count": 8,
   "metadata": {},
   "outputs": [
    {
     "name": "stderr",
     "output_type": "stream",
     "text": [
      "No model was supplied, defaulted to dbmdz/bert-large-cased-finetuned-conll03-english and revision f2482bf (https://huggingface.co/dbmdz/bert-large-cased-finetuned-conll03-english).\n",
      "Using a pipeline without specifying a model name and revision in production is not recommended.\n",
      "Downloading: 100%|██████████| 998/998 [00:00<00:00, 235kB/s]\n",
      "Downloading: 100%|██████████| 1.33G/1.33G [01:04<00:00, 20.6MB/s] \n",
      "Downloading: 100%|██████████| 60.0/60.0 [00:00<00:00, 26.7kB/s]\n",
      "Downloading: 100%|██████████| 213k/213k [00:01<00:00, 182kB/s]  \n",
      "/Users/monusingh/opt/miniconda3/envs/venv-transformer/lib/python3.9/site-packages/transformers/pipelines/token_classification.py:159: UserWarning: `grouped_entities` is deprecated and will be removed in version v5.0.0, defaulted to `aggregation_strategy=\"simple\"` instead.\n",
      "  warnings.warn(\n"
     ]
    },
    {
     "data": {
      "text/plain": [
       "[{'entity_group': 'PER',\n",
       "  'score': 0.9987305,\n",
       "  'word': 'Monu Singh',\n",
       "  'start': 11,\n",
       "  'end': 21},\n",
       " {'entity_group': 'ORG',\n",
       "  'score': 0.99483955,\n",
       "  'word': 'StanC',\n",
       "  'start': 36,\n",
       "  'end': 41},\n",
       " {'entity_group': 'LOC',\n",
       "  'score': 0.99677545,\n",
       "  'word': 'Bangalore',\n",
       "  'start': 45,\n",
       "  'end': 54}]"
      ]
     },
     "execution_count": 8,
     "metadata": {},
     "output_type": "execute_result"
    }
   ],
   "source": [
    "ner = pipeline(\"ner\", grouped_entities=True)\n",
    "ner(\"My name is Monu Singh and I work at StanC in Bangalore\")"
   ]
  },
  {
   "attachments": {},
   "cell_type": "markdown",
   "metadata": {},
   "source": [
    "Question Answering\n",
    "\n",
    "Given information & context"
   ]
  },
  {
   "cell_type": "code",
   "execution_count": 9,
   "metadata": {},
   "outputs": [
    {
     "name": "stderr",
     "output_type": "stream",
     "text": [
      "No model was supplied, defaulted to distilbert-base-cased-distilled-squad and revision 626af31 (https://huggingface.co/distilbert-base-cased-distilled-squad).\n",
      "Using a pipeline without specifying a model name and revision in production is not recommended.\n",
      "Downloading: 100%|██████████| 473/473 [00:00<00:00, 136kB/s]\n",
      "Downloading: 100%|██████████| 261M/261M [00:10<00:00, 25.6MB/s] \n",
      "Downloading: 100%|██████████| 29.0/29.0 [00:00<00:00, 5.74kB/s]\n",
      "Downloading: 100%|██████████| 213k/213k [00:01<00:00, 206kB/s]  \n",
      "Downloading: 100%|██████████| 436k/436k [00:01<00:00, 297kB/s]  \n"
     ]
    },
    {
     "data": {
      "text/plain": [
       "{'score': 0.4609309434890747, 'start': 36, 'end': 41, 'answer': 'StanC'}"
      ]
     },
     "execution_count": 9,
     "metadata": {},
     "output_type": "execute_result"
    }
   ],
   "source": [
    "question_answerer = pipeline(\"question-answering\")\n",
    "question_answerer(\n",
    "    question=\"Where do I work?\",\n",
    "    context=\"My name is Monu Singh and I work at StanC in Bangalore\",\n",
    ")"
   ]
  },
  {
   "attachments": {},
   "cell_type": "markdown",
   "metadata": {},
   "source": [
    "Summarisation \n",
    "\n",
    "Summarization is the task of reducing a text into a shorter text while keeping all (or most) of the important aspects referenced in the text.\n",
    "\n"
   ]
  },
  {
   "cell_type": "code",
   "execution_count": 10,
   "metadata": {},
   "outputs": [
    {
     "name": "stderr",
     "output_type": "stream",
     "text": [
      "No model was supplied, defaulted to sshleifer/distilbart-cnn-12-6 and revision a4f8f3e (https://huggingface.co/sshleifer/distilbart-cnn-12-6).\n",
      "Using a pipeline without specifying a model name and revision in production is not recommended.\n",
      "Downloading: 100%|██████████| 1.80k/1.80k [00:00<00:00, 1.72MB/s]\n",
      "Downloading: 100%|██████████| 1.22G/1.22G [01:37<00:00, 12.6MB/s]\n",
      "Downloading: 100%|██████████| 26.0/26.0 [00:00<00:00, 12.2kB/s]\n",
      "Downloading: 100%|██████████| 899k/899k [00:01<00:00, 550kB/s]  \n",
      "Downloading: 100%|██████████| 456k/456k [00:01<00:00, 297kB/s]  \n"
     ]
    },
    {
     "data": {
      "text/plain": [
       "[{'summary_text': ' America has changed dramatically during recent years . The number of engineering graduates in the U.S. has declined in traditional engineering disciplines such as mechanical, civil,    electrical, chemical, and aeronautical engineering . Rapidly developing economies such as China and India continue to encourage and advance the teaching of engineering .'}]"
      ]
     },
     "execution_count": 10,
     "metadata": {},
     "output_type": "execute_result"
    }
   ],
   "source": [
    "summarizer = pipeline(\"summarization\")\n",
    "summarizer(\n",
    "    \"\"\"\n",
    "    America has changed dramatically during recent years. Not only has the number of \n",
    "    graduates in traditional engineering disciplines such as mechanical, civil, \n",
    "    electrical, chemical, and aeronautical engineering declined, but in most of \n",
    "    the premier American universities engineering curricula now concentrate on \n",
    "    and encourage largely the study of engineering science. As a result, there \n",
    "    are declining offerings in engineering subjects dealing with infrastructure, \n",
    "    the environment, and related issues, and greater concentration on high \n",
    "    technology subjects, largely supporting increasingly complex scientific \n",
    "    developments. While the latter is important, it should not be at the expense \n",
    "    of more traditional engineering.\n",
    "\n",
    "    Rapidly developing economies such as China and India, as well as other \n",
    "    industrial countries in Europe and Asia, continue to encourage and advance \n",
    "    the teaching of engineering. Both China and India, respectively, graduate \n",
    "    six and eight times as many traditional engineers as does the United States. \n",
    "    Other industrial countries at minimum maintain their output, while America \n",
    "    suffers an increasingly serious decline in the number of engineering graduates \n",
    "    and a lack of well-educated engineers.\n",
    "\"\"\"\n",
    ")"
   ]
  },
  {
   "cell_type": "code",
   "execution_count": null,
   "metadata": {},
   "outputs": [],
   "source": []
  }
 ],
 "metadata": {
  "kernelspec": {
   "display_name": "Python 3.9.12 ('venv-transformer')",
   "language": "python",
   "name": "python3"
  },
  "language_info": {
   "codemirror_mode": {
    "name": "ipython",
    "version": 3
   },
   "file_extension": ".py",
   "mimetype": "text/x-python",
   "name": "python",
   "nbconvert_exporter": "python",
   "pygments_lexer": "ipython3",
   "version": "3.9.15"
  },
  "orig_nbformat": 4,
  "vscode": {
   "interpreter": {
    "hash": "e7c7b39dd0dc3929d9e50ef9185977b1800c896cbff9ce982cf3a708bcf740e3"
   }
  }
 },
 "nbformat": 4,
 "nbformat_minor": 2
}
